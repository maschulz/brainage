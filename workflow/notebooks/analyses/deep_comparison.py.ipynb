{
 "cells": [
  {
   "cell_type": "code",
   "execution_count": null,
   "id": "c943b462",
   "metadata": {
    "tags": [
     "snakemake-job-properties"
    ]
   },
   "outputs": [],
   "source": [
    "\n",
    "######## snakemake preamble start (automatically inserted, do not edit) ########\n",
    "import sys; sys.path.extend(['/Users/finrod/miniconda3/envs/brain-benchmark/lib/python3.10/site-packages', '/Users/finrod/dev/brain-benchmark/workflow/notebooks/analyses']); import pickle; snakemake = pickle.loads(b'\\x80\\x04\\x95O\\x06\\x00\\x00\\x00\\x00\\x00\\x00\\x8c\\x10snakemake.script\\x94\\x8c\\tSnakemake\\x94\\x93\\x94)\\x81\\x94}\\x94(\\x8c\\x05input\\x94\\x8c\\x0csnakemake.io\\x94\\x8c\\nInputFiles\\x94\\x93\\x94)\\x81\\x94(\\x8c\\x15resources/ukb.parquet\\x94\\x8c\\'results/aux_variables/ukb.icd10.parquet\\x94\\x8c(results/aux_variables/ukb.custom.parquet\\x94\\x8c&results/aux_variables/ukb.t1-idps.json\\x94\\x8c$results/aux_variables/ukb.icd10.json\\x94e}\\x94(\\x8c\\x06_names\\x94}\\x94(\\x8c\\x08ukb_main\\x94K\\x00N\\x86\\x94\\x8c\\tukb_icd10\\x94K\\x01N\\x86\\x94\\x8c\\nukb_custom\\x94K\\x02N\\x86\\x94\\x8c\\x07t1_info\\x94K\\x03N\\x86\\x94\\x8c\\nicd10_info\\x94K\\x04N\\x86\\x94u\\x8c\\x12_allowed_overrides\\x94]\\x94(\\x8c\\x05index\\x94\\x8c\\x04sort\\x94eh\\x1e\\x8c\\tfunctools\\x94\\x8c\\x07partial\\x94\\x93\\x94h\\x06\\x8c\\x19Namedlist._used_attribute\\x94\\x93\\x94\\x85\\x94R\\x94(h$)}\\x94\\x8c\\x05_name\\x94h\\x1esNt\\x94bh\\x1fh\"h$\\x85\\x94R\\x94(h$)}\\x94h(h\\x1fsNt\\x94bh\\x12h\\nh\\x14h\\x0bh\\x16h\\x0ch\\x18h\\rh\\x1ah\\x0eub\\x8c\\x06output\\x94h\\x06\\x8c\\x0bOutputFiles\\x94\\x93\\x94)\\x81\\x94\\x8c:results/analyses/deep_comparison/effects_F32_m1_e1_c1.json\\x94a}\\x94(h\\x10}\\x94\\x8c\\x07effects\\x94K\\x00N\\x86\\x94sh\\x1c]\\x94(h\\x1eh\\x1feh\\x1eh\"h$\\x85\\x94R\\x94(h$)}\\x94h(h\\x1esNt\\x94bh\\x1fh\"h$\\x85\\x94R\\x94(h$)}\\x94h(h\\x1fsNt\\x94bh5h2ub\\x8c\\x06params\\x94h\\x06\\x8c\\x06Params\\x94\\x93\\x94)\\x81\\x94\\x8c2/Users/finrod/dev/brain-benchmark/workflow/scripts\\x94a}\\x94(h\\x10}\\x94\\x8c\\x07scripts\\x94K\\x00N\\x86\\x94sh\\x1c]\\x94(h\\x1eh\\x1feh\\x1eh\"h$\\x85\\x94R\\x94(h$)}\\x94h(h\\x1esNt\\x94bh\\x1fh\"h$\\x85\\x94R\\x94(h$)}\\x94h(h\\x1fsNt\\x94bhGhDub\\x8c\\twildcards\\x94h\\x06\\x8c\\tWildcards\\x94\\x93\\x94)\\x81\\x94(\\x8c\\x03F32\\x94\\x8c\\x011\\x94hWhWe}\\x94(h\\x10}\\x94(\\x8c\\x08icd_code\\x94K\\x00N\\x86\\x94\\x8c\\x08matching\\x94K\\x01N\\x86\\x94\\x8c\\x04mask\\x94K\\x02N\\x86\\x94\\x8c\\x04corr\\x94K\\x03N\\x86\\x94uh\\x1c]\\x94(h\\x1eh\\x1feh\\x1eh\"h$\\x85\\x94R\\x94(h$)}\\x94h(h\\x1esNt\\x94bh\\x1fh\"h$\\x85\\x94R\\x94(h$)}\\x94h(h\\x1fsNt\\x94bhZhVh\\\\hW\\x8c\\x04mask\\x94hWh`hWub\\x8c\\x07threads\\x94K\\x01\\x8c\\tresources\\x94h\\x06\\x8c\\tResources\\x94\\x93\\x94)\\x81\\x94(K\\x01K\\x01\\x8c0/var/folders/r1/psx7kf0n2cq0jf3bl5v50_0h0000gn/T\\x94e}\\x94(h\\x10}\\x94(\\x8c\\x06_cores\\x94K\\x00N\\x86\\x94\\x8c\\x06_nodes\\x94K\\x01N\\x86\\x94\\x8c\\x06tmpdir\\x94K\\x02N\\x86\\x94uh\\x1c]\\x94(h\\x1eh\\x1feh\\x1eh\"h$\\x85\\x94R\\x94(h$)}\\x94h(h\\x1esNt\\x94bh\\x1fh\"h$\\x85\\x94R\\x94(h$)}\\x94h(h\\x1fsNt\\x94bhtK\\x01hvK\\x01hxhqub\\x8c\\x03log\\x94h\\x06\\x8c\\x03Log\\x94\\x93\\x94)\\x81\\x94\\x8c:logs/notebooks/analyses/deep_comparison_F32_m1_e1_c1.ipynb\\x94a}\\x94(h\\x10}\\x94\\x8c\\x08notebook\\x94K\\x00N\\x86\\x94sh\\x1c]\\x94(h\\x1eh\\x1feh\\x1eh\"h$\\x85\\x94R\\x94(h$)}\\x94h(h\\x1esNt\\x94bh\\x1fh\"h$\\x85\\x94R\\x94(h$)}\\x94h(h\\x1fsNt\\x94bh\\x8ah\\x87ub\\x8c\\x06config\\x94}\\x94\\x8c\\x04rule\\x94\\x8c\\x0fdeep_comparison\\x94\\x8c\\x0fbench_iteration\\x94N\\x8c\\tscriptdir\\x94\\x8c=/Users/finrod/dev/brain-benchmark/workflow/notebooks/analyses\\x94ub.'); from snakemake.logging import logger; logger.printshellcmds = False; import os; os.chdir(r'/Users/finrod/dev/brain-benchmark');\n",
    "######## snakemake preamble end #########\n"
   ]
  },
  {
   "cell_type": "code",
   "execution_count": null,
   "id": "11747fd8",
   "metadata": {},
   "outputs": [],
   "source": [
    "import sys; sys.path.extend([snakemake.params.scripts])\n",
    "\n",
    "from propensity_matching import propensity_score_matching\n",
    "from ukb_data import load\n"
   ]
  },
  {
   "cell_type": "code",
   "execution_count": null,
   "id": "d44a4ebb",
   "metadata": {},
   "outputs": [],
   "source": [
    "df, t1_feature_names, t1_feature_fids, treatment_col, match_cols, tmask_col, mask_col =  load(snakemake)"
   ]
  },
  {
   "cell_type": "code",
   "execution_count": null,
   "id": "f763fd09",
   "metadata": {},
   "outputs": [],
   "source": [
    "import numpy as np\n",
    "import pandas as pd\n",
    "from sklearn.linear_model import LinearRegression\n",
    "from scipy.stats import bootstrap\n",
    "import json"
   ]
  },
  {
   "cell_type": "code",
   "execution_count": null,
   "id": "cd2d0e5b",
   "metadata": {},
   "outputs": [],
   "source": [
    "def get_preds(prefix):\n",
    "    eid_dis = np.load(f'resources/tjade/{prefix}_dis_eids_matched_controls.npy')\n",
    "    age_dis = np.load(f'resources/tjade/{prefix}_dis_predictions_matched_controls.npy')\n",
    "    eid_test = np.load(f'resources/tjade/{prefix}_test_eids_matched_controls.npy')\n",
    "    age_test = np.load(f'resources/tjade/{prefix}_test_predictions_matched_controls.npy')\n",
    "    df_new = pd.DataFrame({'f.eid':np.hstack((eid_dis, eid_test)),prefix:np.hstack((age_dis, age_test))})\n",
    "    df_new = df_new.merge(df, on='f.eid')\n",
    "    df_new[prefix+'_bag'] = df_new['age_t2'] - df_new[prefix]\n",
    "    df_new[prefix+'_bag_corr'] = df_new[prefix+'_bag'] - LinearRegression().fit(df_new['age_t2'].values.reshape(-1, 1),df_new[prefix+'_bag']).predict(df_new['age_t2'].values.reshape(-1, 1))\n",
    "    return df_new"
   ]
  },
  {
   "cell_type": "code",
   "execution_count": null,
   "id": "e61e52c1",
   "metadata": {},
   "outputs": [],
   "source": [
    "def get_effect(prefix, corr=''):\n",
    "    df_ = get_preds(prefix)\n",
    "    matching, stats = propensity_score_matching(df_, treatment_col, match_cols, mask_col)\n",
    "    bag_cn = matching[matching[treatment_col]==False][prefix+'_bag'+corr].values\n",
    "    bag_dx = matching[matching[treatment_col]==True][prefix+'_bag'+corr].values\n",
    "\n",
    "    func = lambda a,b: (np.mean(a)-np.mean(b))/np.sqrt((np.std(a)**2+np.std(b)**2)/2)\n",
    "\n",
    "    effect = func(bag_cn,bag_dx)\n",
    "    sem = bootstrap((bag_cn, bag_dx), func,paired=True).standard_error\n",
    "\n",
    "    return stats, {'effect':effect,'sem': sem, 'n':len(bag_cn), 'model':prefix, 'matching': snakemake.wildcards.matching, 'corr':snakemake.wildcards.corr, 'mask':snakemake.wildcards.mask}\n"
   ]
  },
  {
   "cell_type": "code",
   "execution_count": null,
   "id": "8bbce556",
   "metadata": {},
   "outputs": [],
   "source": [
    "results = {}\n",
    "corr = '_corr' if snakemake.wildcards.corr == '1' else ''\n",
    "print(corr)\n",
    "for prefix in ['ridge_seed_1', 'cnn_seed_1', 'swin_seed_1', 'vit_seed_1']:\n",
    "    stats, results[prefix] = get_effect(prefix, corr=corr)\n",
    "    print(prefix, results[prefix])\n",
    "    print(stats)\n",
    "    print()\n",
    "    print()\n",
    "\n",
    "json.dump(results, open(snakemake.output[0], 'w'), indent=4)"
   ]
  }
 ],
 "metadata": {
  "kernelspec": {
   "display_name": "Python 3",
   "language": "python",
   "name": "python3"
  },
  "language_info": {
   "name": "python",
   "version": "3.10.13"
  }
 },
 "nbformat": 4,
 "nbformat_minor": 5
}
