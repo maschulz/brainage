{
 "cells": [
  {
   "cell_type": "code",
   "execution_count": null,
   "id": "171492a6",
   "metadata": {},
   "outputs": [],
   "source": [
    "import sys; sys.path.extend([snakemake.params.scripts])\n",
    "\n",
    "from propensity_matching import propensity_score_matching\n",
    "from ukb_data import load\n",
    "from sklearn.preprocessing import StandardScaler\n",
    "from sklearn.linear_model import RidgeCV, LinearRegression\n",
    "from sklearn.model_selection import train_test_split\n",
    "from sklearn.metrics import mean_absolute_error, r2_score\n",
    "from scipy.stats import bootstrap\n",
    "import numpy as np\n",
    "import pandas as pd"
   ]
  },
  {
   "cell_type": "code",
   "execution_count": null,
   "id": "133515dd",
   "metadata": {},
   "outputs": [],
   "source": [
    "df, t1_feature_names, t1_feature_fids, treatment_col, match_cols, tmask_col, mask_col =  load(snakemake)\n"
   ]
  },
  {
   "cell_type": "code",
   "execution_count": null,
   "id": "6f612784",
   "metadata": {},
   "outputs": [],
   "source": [
    "df[t1_feature_fids] = StandardScaler().fit_transform(df[t1_feature_fids])"
   ]
  },
  {
   "cell_type": "code",
   "execution_count": null,
   "id": "56916a4d",
   "metadata": {},
   "outputs": [],
   "source": [
    "n_patients = df[df[treatment_col]].shape[0]\n",
    "print(n_patients)\n",
    "if n_patients > 5000:\n",
    "    print(f\"Too many patients ({n_patients}) for propensity matching, dropping {n_patients-5000} patients\")\n",
    "    to_drop = n_patients - 5000\n",
    "    df.loc[df[df[treatment_col]].sample(to_drop).index, treatment_col] = pd.NA\n",
    "df_subset = df.dropna(subset=treatment_col)\n",
    "df_subset[treatment_col] = df_subset[treatment_col].astype(bool)\n",
    "\n",
    "matching, stats = propensity_score_matching(df_subset, treatment_col, match_cols, mask_col)\n",
    "\n",
    "eids_cn = matching[matching[treatment_col]==False].index.to_list()\n",
    "eids_dx = matching[matching[treatment_col]==True].index.to_list()\n",
    "\n",
    "exclude_eids = matching.index.to_list()\n",
    "if tmask_col is not None:\n",
    "    exclude_eids += df.loc[df[tmask_col]].index.to_list()\n",
    "\n",
    "df_ = df.loc[~df.index.isin(exclude_eids)]\n",
    "x = df_[t1_feature_fids].values\n",
    "y = df_['age_t2'].values\n",
    "\n",
    "x_cn = df.loc[eids_cn][t1_feature_fids].values\n",
    "x_dx = df.loc[eids_dx][t1_feature_fids].values\n",
    "y_cn = df.loc[eids_cn]['age_t2'].values\n",
    "y_dx = df.loc[eids_dx]['age_t2'].values\n",
    "\n",
    "stats"
   ]
  },
  {
   "cell_type": "code",
   "execution_count": null,
   "id": "d5a552ee",
   "metadata": {},
   "outputs": [],
   "source": [
    "df_res = pd.DataFrame()"
   ]
  },
  {
   "cell_type": "code",
   "execution_count": null,
   "id": "77334cc3",
   "metadata": {},
   "outputs": [],
   "source": [
    "idx = np.arange(len(x))\n",
    "idx_train, idx_test = train_test_split(idx, train_size=int(snakemake.wildcards.ntrain), test_size=1000, random_state=int(snakemake.wildcards.seed))"
   ]
  },
  {
   "cell_type": "code",
   "execution_count": null,
   "id": "0249e097",
   "metadata": {},
   "outputs": [],
   "source": [
    "for n_dropped in range(2500):\n",
    "    model = RidgeCV(np.logspace(-2, 10, 25)).fit(x[idx_train],y[idx_train])\n",
    "    r2 = model.score(x[idx_train],y[idx_train])\n",
    "\n",
    "    y_train_pred = model.predict(x[idx_train])\n",
    "    y_test_pred = model.predict(x[idx_test])\n",
    "    bag_train = y[idx_train] - y_train_pred\n",
    "\n",
    "    df_res.loc[n_dropped,'r2_train'] = r2_score(y[idx_train], y_train_pred)\n",
    "    df_res.loc[n_dropped,'mae_train'] = mean_absolute_error(y[idx_train], y_train_pred)\n",
    "    df_res.loc[n_dropped,'r2_test'] = r2_score(y[idx_test], y_test_pred)\n",
    "    df_res.loc[n_dropped,'mae_test'] = mean_absolute_error(y[idx_test], y_test_pred)\n",
    "\n",
    "    y_cn_pred = model.predict(x_cn)\n",
    "    y_dx_pred = model.predict(x_dx)\n",
    "\n",
    "    bag_cn = y_cn - y_cn_pred\n",
    "    bag_dx = y_dx - y_dx_pred\n",
    "\n",
    "    bag_train_corr = bag_train - LinearRegression().fit(y[idx_train].reshape(-1, 1),bag_train).predict(y[idx_train].reshape(-1, 1))\n",
    "    bag_cn_corr = bag_cn - LinearRegression().fit(y[idx_train].reshape(-1, 1),bag_train).predict(y_cn.reshape(-1, 1))\n",
    "    bag_dx_corr = bag_dx - LinearRegression().fit(y[idx_train].reshape(-1, 1),bag_train).predict(y_dx.reshape(-1, 1))\n",
    "\n",
    "    func = lambda a,b: (np.mean(a)-np.mean(b))/np.sqrt((np.std(a)**2+np.std(b)**2)/2)\n",
    "\n",
    "    effect = func(bag_cn,bag_dx)\n",
    "    sem = bootstrap((bag_cn, bag_dx), func,paired=True).standard_error\n",
    "\n",
    "    effect_corr = func(bag_cn_corr,bag_dx_corr)\n",
    "    sem_corr = bootstrap((bag_cn_corr, bag_dx_corr), func,paired=True).standard_error\n",
    "\n",
    "    df_res.loc[n_dropped,'effect'] = effect\n",
    "    df_res.loc[n_dropped,'sem'] = sem\n",
    "    df_res.loc[n_dropped,'effect_corr'] = effect_corr\n",
    "    df_res.loc[n_dropped,'sem_corr'] = sem_corr\n",
    "\n",
    "    print(df_res.loc[n_dropped])\n",
    "\n",
    "    if snakemake.wildcards.corr == '1':\n",
    "        bag_train_ = bag_train_corr\n",
    "    elif snakemake.wildcards.corr == '0':\n",
    "        bag_train_ = bag_train\n",
    "    else:\n",
    "        raise ValueError('corr must be 0 or 1')\n",
    "\n",
    "    # index of sample with largest residual\n",
    "    idx_drop = np.argmax(np.abs(bag_train_))\n",
    "    real_idx_drop = idx_train[idx_drop]\n",
    "    # print some info on the sample\n",
    "    print(f'largest residual: {bag_train_[idx_drop]}')\n",
    "    print(f'age: {y[real_idx_drop]}')\n",
    "    # drop sample with largest residual\n",
    "    idx_train = np.delete(idx_train, idx_drop)\n",
    "    # drop from idx (possible replacements) as well\n",
    "    idx = idx[~np.isin(idx, [real_idx_drop])]\n",
    "\n",
    "    # add a new sample with same age and sex as the dropped sample\n",
    "    try:\n",
    "        replacement = df_.iloc[idx][(df_['age_t2']==df_.iloc[real_idx_drop]['age_t2'])  & (df_['sex']==df_.iloc[real_idx_drop]['sex'])].sample(1).iloc[0]\n",
    "    except:\n",
    "        # same sex and minimal age difference\n",
    "        print('no perfect match')\n",
    "        replacement = df_.iloc[idx][df_['sex']==df_.iloc[real_idx_drop]['sex']] .iloc[(df_.iloc[idx][df_['sex']==df_.iloc[real_idx_drop]['sex']]['age_t2']-df_.iloc[real_idx_drop]['age_t2']).abs().argsort()[:1]].iloc[0]\n",
    "\n",
    "    idx_replacement = df_.index.get_loc(replacement.name)\n",
    "    idx_train = np.append(idx_train, idx_replacement)\n",
    "\n",
    "    # print some info on the replacement\n",
    "    print(f'replacement age: {replacement[\"age_t2\"]}')\n",
    "    print(f'new average age in train set: {np.mean(y[idx_train])}')\n",
    "\n",
    "\n"
   ]
  },
  {
   "cell_type": "code",
   "execution_count": null,
   "id": "1afd5fe7",
   "metadata": {},
   "outputs": [],
   "source": [
    "df_res['mask'] = snakemake.wildcards.mask\n",
    "df_res['tmask'] = snakemake.wildcards.trainmask\n",
    "df_res['treatment'] = snakemake.wildcards.icd_code\n",
    "df_res['matching'] = snakemake.wildcards.matching\n",
    "df_res['ntrain'] = int(snakemake.wildcards.ntrain)\n",
    "df_res['ndx'] = len(x_dx)"
   ]
  },
  {
   "cell_type": "code",
   "execution_count": null,
   "id": "a6d33164",
   "metadata": {},
   "outputs": [],
   "source": [
    "df_res.to_json(snakemake.output.effects)"
   ]
  },
  {
   "cell_type": "code",
   "execution_count": null,
   "id": "96155141",
   "metadata": {},
   "outputs": [],
   "source": [
    "import seaborn as sns\n",
    "sns.lineplot(data=df_res.reset_index(), x='index', y='effect_corr')\n"
   ]
  },
  {
   "cell_type": "code",
   "execution_count": null,
   "id": "2c69009e-8de2-429d-b73f-331971fb3f14",
   "metadata": {},
   "outputs": [],
   "source": [
    "sns.lineplot(data=df_res.reset_index(), x='index', y='effect')\n"
   ]
  },
  {
   "cell_type": "code",
   "execution_count": null,
   "id": "fbb5db44",
   "metadata": {},
   "outputs": [],
   "source": [
    "sns.lineplot(data=df_res.reset_index(), x='index', y='r2_test')"
   ]
  },
  {
   "cell_type": "code",
   "execution_count": null,
   "id": "db8e7972-7eac-4336-95dc-0ebae875f967",
   "metadata": {},
   "outputs": [],
   "source": []
  },
  {
   "cell_type": "code",
   "execution_count": null,
   "id": "ba4b33f6-8272-483e-94ea-1a0716554c40",
   "metadata": {},
   "outputs": [],
   "source": []
  }
 ],
 "metadata": {
  "kernelspec": {
   "display_name": "Python 3 (ipykernel)",
   "language": "python",
   "name": "python3"
  },
  "language_info": {
   "codemirror_mode": {
    "name": "ipython",
    "version": 3
   },
   "file_extension": ".py",
   "mimetype": "text/x-python",
   "name": "python",
   "nbconvert_exporter": "python",
   "pygments_lexer": "ipython3",
   "version": "3.10.13"
  }
 },
 "nbformat": 4,
 "nbformat_minor": 5
}
