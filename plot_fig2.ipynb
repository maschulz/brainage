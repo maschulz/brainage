{
 "cells": [
  {
   "cell_type": "code",
   "execution_count": null,
   "metadata": {},
   "outputs": [],
   "source": [
    "import seaborn as sns\n",
    "import pandas as pd\n",
    "import numpy as np\n",
    "import seaborn as sns\n",
    "import matplotlib.pyplot as plt\n",
    "from glob import glob\n"
   ]
  },
  {
   "cell_type": "code",
   "execution_count": null,
   "metadata": {},
   "outputs": [],
   "source": [
    "from glob import glob\n",
    "files = glob('results/analyses/overregularisation/*.json')\n",
    "\n",
    "df = []\n",
    "for file in files:\n",
    "    df.append(pd.read_json(file,orient='table').reset_index())   \n",
    "    _, df[-1]['icd_code'],  df[-1]['et'],df[-1]['m'],df[-1]['e'],df[-1]['ntrain'], df[-1]['seed'] = file.split('/')[-1].split('.')[0].split('_')\n",
    "df = pd.concat(df)\n",
    "\n",
    "# cast all numeric columns to float\n",
    "for col in df.columns:\n",
    "    if df[col].dtype == 'object':\n",
    "        try:\n",
    "            df[col] = df[col].astype(float)\n",
    "        except:\n",
    "            pass\n",
    "\n",
    "df"
   ]
  },
  {
   "cell_type": "code",
   "execution_count": null,
   "metadata": {},
   "outputs": [],
   "source": [
    "df = df[(df['et']=='et1') & (df['m']=='m3') & (df['e']=='e1')]\n",
    "df.rename(columns={'index':'alpha'},inplace=True)\n",
    "df['my_effect'] = df['effect_corr']\n",
    "df.set_index(['icd_code'],inplace=True)\n",
    "df.loc['fluid-intelligence-custom','my_effect'] = -1 * df.loc['fluid-intelligence-custom','my_effect']\n",
    "df.loc['socialsupport-bin','my_effect'] = -1 * df.loc['socialsupport-bin','my_effect']\n",
    "df = df.reset_index()"
   ]
  },
  {
   "cell_type": "code",
   "execution_count": null,
   "metadata": {},
   "outputs": [],
   "source": [
    "df.set_index(['icd_code']).loc['fluid-intelligence-custom','my_effect']"
   ]
  },
  {
   "cell_type": "code",
   "execution_count": null,
   "metadata": {},
   "outputs": [],
   "source": [
    "# average over seeds\n",
    "a = df.groupby(['icd_code','alpha'])[['r2_test','mae_test','my_effect']].mean().reset_index()\n",
    "# find value of column \"alpha\" that maximises r2_test\n",
    "b = a.loc[a.groupby(['icd_code'])['r2_test'].idxmax()]\n",
    "b.set_index('icd_code',inplace=True)\n",
    "b\n",
    "c = a.loc[a.groupby(['icd_code'])['my_effect'].idxmax()]\n",
    "c.set_index('icd_code',inplace=True)\n",
    "c\n",
    "d = a.loc[a.groupby(['icd_code'])['mae_test'].idxmin()]\n",
    "d.set_index('icd_code',inplace=True)\n",
    "\n",
    "a\n",
    "\n"
   ]
  },
  {
   "cell_type": "code",
   "execution_count": null,
   "metadata": {},
   "outputs": [],
   "source": [
    "# reduce horizontal spacing\n",
    "plt.rcParams['ytick.labelsize'] = 'xx-small'\n",
    "plt.rcParams['xtick.labelsize'] = 'xx-small'\n",
    "\n",
    "plt.rcParams['axes.titlesize'] = 'small'\n",
    "plt.rcParams['axes.labelsize'] = 'x-small'\n",
    "plt.rcParams['legend.fontsize'] = 'x-small'"
   ]
  },
  {
   "cell_type": "code",
   "execution_count": null,
   "metadata": {},
   "outputs": [],
   "source": [
    "def twin_lineplot(x,y,color,**kwargs):\n",
    "    ax = plt.twinx()\n",
    "    sns.lineplot(x=x,y=y,color=color,**kwargs, ax=ax)\n",
    "    if ax.get_subplotspec().is_last_col()  and not ax.get_subplotspec().is_first_row() and not ax.get_subplotspec().is_last_row():\n",
    "        ax.set_ylabel('accuracy [R^2]')\n",
    "    else:\n",
    "        ax.set_ylabel('')\n",
    "    # no legend\n",
    "    ax.get_legend().remove()\n",
    "    # only 2 yticks, rotation 90\n",
    "    ax.set_yticks([0.2, 0.6])\n",
    "    ax.set_yticklabels([0.2, 0.6], rotation=90)\n",
    "\n",
    "\n",
    "g = sns.FacetGrid(df, height=1.5, col=\"icd_code\", col_wrap=3, col_order=['F10', 'F31', 'F32','G20', 'G40', 'G47', 'fluid-intelligence-custom', 'stress-bin', 'socialsupport-bin'], sharey=0)\n",
    "# i need 2 lines per plot, one for the effect size, one for the r2 on different scales\n",
    "g.map(sns.lineplot, \"alpha\", \"my_effect\", errorbar='se', color='blue', label='effect size')\n",
    "g.map(twin_lineplot, \"alpha\", \"r2_test\", errorbar='se', color='red', label='r2')\n",
    "g.set(xscale=\"log\")\n",
    "# set ylabels\n",
    "\n",
    "for ax in g.axes:\n",
    "    # only set ylabels for the left column\n",
    "    if ax.get_subplotspec().is_first_col() and not ax.get_subplotspec().is_first_row() and not ax.get_subplotspec().is_last_row():\n",
    "        ax.set_ylabel('effect size [d]')\n",
    "    else:\n",
    "        ax.set_ylabel('')\n",
    "\n",
    "# add custom legend, red='r2', blue='effect size'\n",
    "import matplotlib.lines as mlines\n",
    "import matplotlib.pyplot as plt\n",
    "red_line = mlines.Line2D([], [], color='red', label='brain-age prediction accuracy [R^2]')\n",
    "blue_line = mlines.Line2D([], [], color='blue', label='brain-age-gap effect size [d]')\n",
    "#place legend centered on the bottom, no frame\n",
    "g.axes[-2].legend(handles=[red_line, blue_line], loc='lower center', bbox_to_anchor=(0.5, -.7), ncol=2, frameon=False)\n",
    "\n",
    "# manually set all subplot titles\n",
    "for ax in g.axes:\n",
    "    ax.set_title(ax.get_title().split('=')[-1].strip())\n",
    "\n",
    "# add vertical lines for max r2_test\n",
    "for ax in g.axes:\n",
    "    ax.axvline(x=d.loc[ax.get_title(),'alpha'], color='red', linestyle='--', alpha=.5)\n",
    "    ax.axvline(x=c.loc[ax.get_title(),'alpha'], color='blue', linestyle='--', alpha=.5)\n",
    "    ax.axhline(y=a.set_index(['icd_code','alpha']).loc[(ax.get_title(),c.loc[ax.get_title(),'alpha'])].my_effect, color='blue', linestyle='--', alpha=.5)\n",
    "    ax.axhline(y=a.set_index(['icd_code','alpha']).loc[(ax.get_title(),d.loc[ax.get_title(),'alpha'])].my_effect, color='red', linestyle='--', alpha=.5)\n",
    "\n",
    "\n",
    "g.set_yticklabels(rotation=90)\n",
    "plt.subplots_adjust(hspace=0.4, wspace=0.5)\n",
    "\n",
    "# limit to 2 yticks\n",
    "for ax in g.axes:\n",
    "    ax.set_yticks(ax.get_yticks()[::2])\n",
    "\n",
    "# g.set_axis_labels(\"n_replaced\", \"effect size\")\n",
    "#replace titles\n",
    "titles = ['Alcohol Dependency','Bipolar Disorder','Depression',\"Parkinson's\",'Epilepsy','Sleep Disorders','Fluid Intelligence','Severe Stress','Social Support']\n",
    "for ax, title in zip(g.axes.flat, titles):\n",
    "    ax.set_title(title)\n",
    "\n",
    "# set xlabel\n",
    "for ax in g.axes:\n",
    "    if not ax.get_subplotspec().is_first_col() and not ax.get_subplotspec().is_last_col():\n",
    "        ax.set_xlabel('regularisation strength [$\\\\alpha$]')\n",
    "    else:\n",
    "        ax.set_xlabel('')\n",
    "\n",
    "plt.savefig('fig2.png',dpi=300,bbox_inches='tight')"
   ]
  },
  {
   "cell_type": "code",
   "execution_count": null,
   "metadata": {},
   "outputs": [],
   "source": [
    "g=sns.lineplot(data=df,x='index', y='effect', hue='file')\n",
    "g.set_xscale('log')\n",
    "\n",
    "# add \"r2\" column from df to plot\n",
    "g=sns.lineplot(data=df_,x='index', y='r2')\n",
    "\n",
    "# vertical line at r2_max_index\n",
    "import matplotlib.pyplot as plt\n",
    "plt.axvline(r2_max_index, color='k', linestyle='--')"
   ]
  },
  {
   "cell_type": "code",
   "execution_count": null,
   "metadata": {},
   "outputs": [],
   "source": [
    "# from glob import glob\n",
    "# files = glob('results/analyses/trainset_mixture/eff*.json')\n",
    "# print(files)\n",
    "# df = []\n",
    "# for file in files:\n",
    "#     df.append(pd.read_json(file, orient='table'))   \n",
    "#     df[-1]['file'] = file.split('/')[-1].split('.')[0]\n",
    "# df = pd.concat(df)\n",
    "# df.reset_index(inplace=True)\n",
    "# df\n",
    "\n",
    "from glob import glob\n",
    "files = glob('results/analyses/trainset_mixture/effects_*_m*_e*.json')\n",
    "print(files)\n",
    "df = []\n",
    "for file in files:\n",
    "    df.append(pd.read_json(file, orient='table'))   \n",
    "    _, df[-1]['icd_code'], df[-1]['matching'], df[-1]['exclusion']= file.split('/')[-1].split('.')[0].split('_')\n",
    "    df[-1]['file'] = file.split('/')[-1].split('.')[0]\n",
    "df = pd.concat(df)\n",
    "df.reset_index(inplace=True)\n",
    "df['effect'] = -df['effect']\n",
    "df\n"
   ]
  },
  {
   "cell_type": "code",
   "execution_count": null,
   "metadata": {},
   "outputs": [],
   "source": [
    "g = sns.lmplot(data=df, x='fraction', y='effect_corr', row='icd_code', col='matching', hue='exclusion', x_estimator=np.mean, sharey='row', sharex='row')\n",
    "\n",
    "# Add horizontal zero line to each subplot\n",
    "for ax in g.axes.flatten():\n",
    "    ax.axhline(0, color='black', linestyle='--')\n",
    "\n"
   ]
  },
  {
   "cell_type": "code",
   "execution_count": null,
   "metadata": {},
   "outputs": [],
   "source": [
    "g = sns.lmplot(data=df, x='fraction', y='effect', row='icd_code', col='matching', hue='exclusion', x_estimator=np.mean, sharey='row', sharex='row')\n",
    "\n",
    "# Add horizontal zero line to each subplot\n",
    "for ax in g.axes.flatten():\n",
    "    ax.axhline(0, color='black', linestyle='--')\n",
    "\n"
   ]
  },
  {
   "cell_type": "code",
   "execution_count": null,
   "metadata": {},
   "outputs": [],
   "source": [
    "import json\n",
    "with open('results/analyses/icd10_brainage_sweep/table_blocks.json') as f:\n",
    "    data = json.load(f)\n",
    "    df_sweep = pd.read_json(data['results'], orient='table')\n"
   ]
  },
  {
   "cell_type": "code",
   "execution_count": null,
   "metadata": {},
   "outputs": [],
   "source": [
    "df_sweep[(df_sweep['n']>20) & df_sweep['icd_letter'].isin(['F', 'G', 'O']) & (df_sweep['t_abs']>0)]"
   ]
  },
  {
   "cell_type": "code",
   "execution_count": null,
   "metadata": {},
   "outputs": [],
   "source": []
  }
 ],
 "metadata": {
  "kernelspec": {
   "display_name": "brain-benchmark",
   "language": "python",
   "name": "python3"
  },
  "language_info": {
   "codemirror_mode": {
    "name": "ipython",
    "version": 3
   },
   "file_extension": ".py",
   "mimetype": "text/x-python",
   "name": "python",
   "nbconvert_exporter": "python",
   "pygments_lexer": "ipython3",
   "version": "3.10.13"
  }
 },
 "nbformat": 4,
 "nbformat_minor": 2
}
