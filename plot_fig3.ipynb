{
 "cells": [
  {
   "cell_type": "code",
   "execution_count": null,
   "metadata": {},
   "outputs": [],
   "source": [
    "import seaborn as sns\n",
    "import pandas as pd\n",
    "import numpy as np\n",
    "import seaborn as sns\n",
    "import matplotlib.pyplot as plt\n",
    "from glob import glob\n"
   ]
  },
  {
   "cell_type": "code",
   "execution_count": null,
   "metadata": {},
   "outputs": [],
   "source": [
    "from glob import glob\n",
    "files = glob('results/analyses/outlier_removal/*.json')\n",
    "\n",
    "df = []\n",
    "for file in files:\n",
    "    df.append(pd.read_json(file).reset_index())   \n",
    "    _, _, _, _, _, _,  df[-1]['use_corr'], df[-1]['seed'] = file.split('/')[-1].split('.')[0].split('_')\n",
    "df = pd.concat(df)\n",
    "\n",
    "# cast all numeric columns to float\n",
    "for col in df.columns:\n",
    "    if df[col].dtype == 'object':\n",
    "        try:\n",
    "            df[col] = df[col].astype(float)\n",
    "        except:\n",
    "            pass\n",
    "\n",
    "df"
   ]
  },
  {
   "cell_type": "code",
   "execution_count": null,
   "metadata": {},
   "outputs": [],
   "source": [
    "# reduce horizontal spacing\n",
    "plt.rcParams['ytick.labelsize'] = 'xx-small'\n",
    "plt.rcParams['xtick.labelsize'] = 'xx-small'\n",
    "\n",
    "plt.rcParams['axes.titlesize'] = 'small'\n",
    "plt.rcParams['axes.labelsize'] = 'x-small'\n",
    "plt.rcParams['legend.fontsize'] = 'x-small'"
   ]
  },
  {
   "cell_type": "code",
   "execution_count": null,
   "metadata": {},
   "outputs": [],
   "source": [
    "df_ = df[(df['tmask'] == 1) & (df['mask'] == 1) & (df['use_corr'] == 'c0') & (df['matching'] == 3)]\n",
    "df_['effect_corr']=df_['effect_corr'].abs()\n",
    "g = sns.FacetGrid(df_, height=1.5, col=\"treatment\", col_wrap=3, col_order=['F10', 'F31', 'F32','G20', 'G40', 'G47', 'fluid-intelligence-custom', 'stress-bin', 'socialsupport-bin'], sharey=0)\n",
    "g.map(sns.lineplot, \"index\", \"effect_corr\", errorbar='se')\n",
    "g.set_yticklabels(rotation=90)\n",
    "# limit to 2 yticks\n",
    "for ax in g.axes:\n",
    "    ax.set_yticks(ax.get_yticks()[::2])\n",
    "g.set_titles(\"{col_name}\")\n",
    "# reduce horizontal spacing\n",
    "plt.subplots_adjust(hspace=0.4, wspace=0.2)\n",
    "g.set_axis_labels(\"n_replaced\", \"effect size\")\n",
    "#replace titles\n",
    "titles = ['Alcohol Dependency','Bipolar Disorder','Depression',\"Parkinson's\",'Epilepsy','Sleep Disorders','Fluid Intelligence','Severe Stress','Social Support']\n",
    "for ax, title in zip(g.axes.flat, titles):\n",
    "    ax.set_title(title)\n",
    "\n",
    "plt.savefig('fig3.png',dpi=300,bbox_inches='tight')"
   ]
  },
  {
   "cell_type": "code",
   "execution_count": null,
   "metadata": {},
   "outputs": [],
   "source": [
    "df_ = df[(df['tmask'] == 0) & (df['mask'] == 1) & (df['use_corr'] == 'c0') & (df['matching'] == 3)]\n",
    "df_['effect_corr']=df_['effect_corr'].abs()\n",
    "g = sns.FacetGrid(df_, height=1.5, col=\"treatment\", col_wrap=3, col_order=['F10', 'F31', 'F32','G20', 'G40', 'G47', 'fluid-intelligence-custom', 'stress-bin', 'socialsupport-bin'], sharey=0)\n",
    "g.map(sns.lineplot, \"index\", \"effect_corr\", errorbar='sd')\n",
    "g.set_yticklabels(rotation=90)\n",
    "# limit to 2 yticks\n",
    "for ax in g.axes:\n",
    "    ax.set_yticks(ax.get_yticks()[::2])\n",
    "g.set_titles(\"{col_name}\")\n",
    "# reduce horizontal spacing\n",
    "plt.subplots_adjust(hspace=0.4, wspace=0.2)\n",
    "plt.rcParams['ytick.labelsize'] = 'xx-small'\n",
    "plt.rcParams['xtick.labelsize'] = 'xx-small'\n",
    "g.set_axis_labels(\"n_replaced\", \"effect size\")\n",
    "#replace titles\n",
    "titles = ['F10', 'F31', 'F32','G20', 'G40', 'G47', 'fluid-intelligence', 'stress', 'social-support']\n",
    "for ax, title in zip(g.axes.flat, titles):\n",
    "    ax.set_title(title)\n"
   ]
  },
  {
   "cell_type": "code",
   "execution_count": null,
   "metadata": {},
   "outputs": [],
   "source": []
  }
 ],
 "metadata": {
  "kernelspec": {
   "display_name": "brain-benchmark",
   "language": "python",
   "name": "python3"
  },
  "language_info": {
   "codemirror_mode": {
    "name": "ipython",
    "version": 3
   },
   "file_extension": ".py",
   "mimetype": "text/x-python",
   "name": "python",
   "nbconvert_exporter": "python",
   "pygments_lexer": "ipython3",
   "version": "3.10.13"
  }
 },
 "nbformat": 4,
 "nbformat_minor": 2
}
